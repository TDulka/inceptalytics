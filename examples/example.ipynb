{
  "nbformat": 4,
  "nbformat_minor": 0,
  "metadata": {
    "colab": {
      "name": "inceptalytics_example.ipynb",
      "provenance": [],
      "collapsed_sections": []
    },
    "kernelspec": {
      "name": "python3",
      "display_name": "Python 3"
    },
    "language_info": {
      "name": "python"
    }
  },
  "cells": [
    {
      "cell_type": "markdown",
      "source": [
        "# INCEpTALYTICS Quick Start Guide\n",
        "The _INCEpTALYTICS_ package allows you to export and analyse annotation projects using the [_INCEpTION_](https://inception-project.github.io/) annotation tool. \n",
        "This guide gives an overview over its functionalities. It assumes that you are familiar with the INCEpTION annotation tool."
      ],
      "metadata": {
        "id": "dKKufAeQCsTL"
      }
    },
    {
      "cell_type": "markdown",
      "source": [
        "## Loading a Project\n",
        "Projects can be loaded in two ways: \n",
        "\n",
        "* Importing a [zipped XMI](https://inception-project.github.io/releases/22.4/docs/user-guide.html#sect_formats_uimaxmi) export\n",
        "* INCEpTION's [remote API](https://inception-project.github.io/releases/22.5/docs/admin-guide.html#sect_remote_api).\n",
        "\n",
        "***NOTE***: XMI exports must be in XMI v1.0 format, as INCEpTALYTICS is built on top of [_dkpro cassis_](https://github.com/dkpro/dkpro-cassis)."
      ],
      "metadata": {
        "id": "Haem7elODc_a"
      }
    },
    {
      "cell_type": "code",
      "source": [
        "from inceptalytics import Project\n",
        "\n",
        "project = Project.from_zipped_xmi('../data/Example_Project_POS.zip')"
      ],
      "metadata": {
        "id": "laVluIRvFgZ8"
      },
      "execution_count": null,
      "outputs": []
    },
    {
      "cell_type": "code",
      "source": [
        "# project = Project.from_remote(project='my_project_name',\n",
        "#                              remote_url='https://my.inception.instance',\n",
        "#                              auth=('user', 'password'))"
      ],
      "metadata": {
        "id": "uzFtpUwhF6lD"
      },
      "execution_count": null,
      "outputs": []
    },
    {
      "cell_type": "markdown",
      "source": [
        "Once a project is loaded, you can access different properties such as annotators and annotated files. \n",
        "Per default, those include only annotators who annotated at least a single document and documents that contain at least a single annotation."
      ],
      "metadata": {
        "id": "a2lI4EjwGHy7"
      }
    },
    {
      "cell_type": "code",
      "source": [
        "print('Annotators:', project.annotators)\n",
        "print('Files:', project.source_file_names)\n",
        "print('Layers:', project.layers)"
      ],
      "metadata": {
        "id": "a9jHx-chGCjP"
      },
      "execution_count": null,
      "outputs": []
    },
    {
      "cell_type": "markdown",
      "source": [
        "You can also access the typesystem and CAS objects directly. There is a single CAS object per source file.\n",
        "\n",
        "See the [dkpro cassis documentation](https://cassis.readthedocs.io/en/latest/) for more details on their usage."
      ],
      "metadata": {
        "id": "4d7okVipH8lo"
      }
    },
    {
      "cell_type": "code",
      "source": [
        "typesystem = project.typesystem\n",
        "cas_objects = project.cas_objects\n",
        "\n",
        "# do something useful with those here"
      ],
      "metadata": {
        "id": "r0xW9FerInE5"
      },
      "execution_count": null,
      "outputs": []
    },
    {
      "cell_type": "markdown",
      "source": [
        "## Analysing a specific annotation\n",
        "\n",
        "Annotations are organised in _layers_ and _features_. To analyse a specific annotation, you need to select a feature-layer combination. The returned _View_ offers the main analysis functionalities of INCEpTALYTICS."
      ],
      "metadata": {
        "id": "wDNekRdvJhjb"
      }
    },
    {
      "cell_type": "code",
      "source": [
        "pos_layer = 'de.tudarmstadt.ukp.dkpro.core.api.lexmorph.type.pos.POS'\n",
        "print(f'Features: {project.features(pos_layer)}')\n",
        "feature = 'coarseValue'\n",
        "\n",
        "feature_path = f'{pos_layer}>{feature}'\n",
        "pos_annos = project.select(annotation=feature_path)"
      ],
      "metadata": {
        "id": "RSKmm8l-J85z"
      },
      "execution_count": null,
      "outputs": []
    },
    {
      "cell_type": "markdown",
      "source": [
        "You can also create a view that contains a specific subset of files and annotators."
      ],
      "metadata": {
        "id": "VPd19hFqQk1o"
      }
    },
    {
      "cell_type": "code",
      "source": [
        "reduced_pos_annos = project.select(annotation=feature_path,\n",
        "                                   annotators=['ia-test1', 'ia-test2'],\n",
        "                                   source_files=['test1.txt', 'test2.txt'])"
      ],
      "metadata": {
        "id": "k_qqElDrQrL8"
      },
      "execution_count": null,
      "outputs": []
    },
    {
      "cell_type": "markdown",
      "source": [
        "Once we have selected a specific annotation, we can look at some numbers, e.g. the total number of annotations."
      ],
      "metadata": {
        "id": "BqPGSJmNRQL1"
      }
    },
    {
      "cell_type": "code",
      "source": [
        "print('# pos annotations in view:', pos_annos.count())"
      ],
      "metadata": {
        "id": "nXlvoQfcRcva"
      },
      "execution_count": null,
      "outputs": []
    },
    {
      "cell_type": "markdown",
      "source": [
        "Many methods of the View API accept the `grouped_by` parameter. We can use it to refine a query and organise returned values."
      ],
      "metadata": {
        "id": "mSHMiribRkMm"
      }
    },
    {
      "cell_type": "code",
      "source": [
        "print('# annotations per file per annotator', pos_annos.count(grouped_by=['source_file', 'annotator']))\n",
        "print('label distribution', pos_annos.count(grouped_by='annotation'))"
      ],
      "metadata": {
        "id": "QwFGKP2UR-PR"
      },
      "execution_count": null,
      "outputs": []
    },
    {
      "cell_type": "markdown",
      "source": [
        "Most methods of the View API return [pandas](https://pandas.pydata.org/) objects. In case you want to implement an analysis not covered by the API, you can directly work with a `DataFrame` as well."
      ],
      "metadata": {
        "id": "lwvzvkzNR_oz"
      }
    },
    {
      "cell_type": "code",
      "source": [
        "df = pos_annos.data_frame\n",
        "df.head()"
      ],
      "metadata": {
        "id": "S2vKYyT4TmxO"
      },
      "execution_count": null,
      "outputs": []
    },
    {
      "cell_type": "markdown",
      "source": [
        "If you want to use your annotated data for ML training, INCEpTALYTICS can do a simple majority vote.\n",
        "The `levels` parameter controls across which unit levels annotations are aggregated. `['sentence', 'begin', 'end']` aggregates over individual spans contained in a sentence."
      ],
      "metadata": {
        "id": "b7Kh42TQftnb"
      }
    },
    {
      "cell_type": "code",
      "source": [
        "dataset = pos_annos.consolidated_annotations(levels=['sentence', 'begin', 'end'])\n",
        "dataset.head()"
      ],
      "metadata": {
        "id": "Ms2TvOQMgDNC"
      },
      "execution_count": null,
      "outputs": []
    },
    {
      "cell_type": "markdown",
      "source": [
        "The resulting DataFrame can be stored in many common formats."
      ],
      "metadata": {
        "id": "jFabzrO2hMB0"
      }
    },
    {
      "cell_type": "code",
      "source": [
        "dataset.to_csv('../data/pos.csv')"
      ],
      "metadata": {
        "id": "kKOY0iUXhz6a"
      },
      "execution_count": null,
      "outputs": []
    },
    {
      "cell_type": "markdown",
      "source": [
        "### Inspecting Data in Detail\n",
        "\n",
        "To get an overview over the annotation, you can look at the document-annotator matrix."
      ],
      "metadata": {
        "id": "qIA-ZPXVUKgw"
      }
    },
    {
      "cell_type": "code",
      "source": [
        "pos_annos.document_annotator_matrix"
      ],
      "metadata": {
        "id": "g9RvjiEmTeSc"
      },
      "execution_count": null,
      "outputs": []
    },
    {
      "cell_type": "markdown",
      "source": [
        "It may be useful to have a look at the text that was annotated to adjudicate disagreements."
      ],
      "metadata": {
        "id": "VuMdMDBQjDV8"
      }
    },
    {
      "cell_type": "code",
      "source": [
        "document_annotator_matrix = pos_annos.document_annotator_matrix\n",
        "covered_texts = pos_annos.texts\n",
        "document_annotator_matrix.join(covered_texts).head()"
      ],
      "metadata": {
        "id": "hmntJKf2jSm0"
      },
      "execution_count": null,
      "outputs": []
    },
    {
      "cell_type": "markdown",
      "source": [
        "If you are looking for annotation quality, we also provide confusion matrices and agreement measures. Confusion matrices produced pairwise and are indexed by annotators."
      ],
      "metadata": {
        "id": "2_U5jQxYWIZz"
      }
    },
    {
      "cell_type": "code",
      "source": [
        "cms = pos_annos.confusion_matrices()\n",
        "cms[('ia-test3', 'ia-test2')]"
      ],
      "metadata": {
        "id": "6yIX4MwIWVYP"
      },
      "execution_count": null,
      "outputs": []
    },
    {
      "cell_type": "markdown",
      "source": [
        "If you are not interested in individual annotators, but overall disagreements over certain classes, you can aggregate the pairwise matrices into a single matrix."
      ],
      "metadata": {
        "id": "o_Aag0tzdw1R"
      }
    },
    {
      "cell_type": "code",
      "source": [
        "# sum over all pairwise matrices\n",
        "print(pos_annos.confusion_matrices(aggregate='total'))"
      ],
      "metadata": {
        "id": "f8GRPB1tdwJy"
      },
      "execution_count": null,
      "outputs": []
    },
    {
      "cell_type": "markdown",
      "source": [
        "If you want to quantify disagreements, INCEpTALYTICS offers different agreement measures which can be calculated pairwise or in aggregate."
      ],
      "metadata": {
        "id": "6k7ukC1mecgn"
      }
    },
    {
      "cell_type": "code",
      "source": [
        "print('Krippendorff\\'s alpha: ', pos_annos.iaa())\n",
        "print('Pairwise Cohen\\'s Kappa: ', pos_annos.iaa_pairwise(measure='kappa'))"
      ],
      "metadata": {
        "id": "anwE364oeb_s"
      },
      "execution_count": null,
      "outputs": []
    }
  ]
}